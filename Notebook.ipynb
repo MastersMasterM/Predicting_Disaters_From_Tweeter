{
  "nbformat": 4,
  "nbformat_minor": 0,
  "metadata": {
    "colab": {
      "name": "Detecting disasters from tweets.ipynb",
      "provenance": [],
      "collapsed_sections": []
    },
    "kernelspec": {
      "name": "python3",
      "display_name": "Python 3"
    },
    "language_info": {
      "name": "python"
    },
    "accelerator": "GPU",
    "gpuClass": "standard"
  },
  "cells": [
    {
      "cell_type": "markdown",
      "source": [
        "# Downloading data from kaggle"
      ],
      "metadata": {
        "id": "_DLi2jJbga--"
      }
    },
    {
      "cell_type": "markdown",
      "source": [
        "First you should create a token in kaggle and upload it in Files"
      ],
      "metadata": {
        "id": "ieFkQA0Xg1nc"
      }
    },
    {
      "cell_type": "code",
      "source": [
        "! pip install -q kaggle\n",
        "! mkdir ~/.kaggle\n",
        "! cp kaggle.json ~/.kaggle/\n",
        "! chmod 600 ~/.kaggle/kaggle.json\n",
        "! kaggle competitions download -c nlp-getting-started"
      ],
      "metadata": {
        "colab": {
          "base_uri": "https://localhost:8080/"
        },
        "id": "w4nCOhLhgamz",
        "outputId": "6213bfb5-88a8-4d59-e7c1-ac3bd3aa8e8e"
      },
      "execution_count": 1,
      "outputs": [
        {
          "output_type": "stream",
          "name": "stdout",
          "text": [
            "mkdir: cannot create directory ‘/root/.kaggle’: File exists\n",
            "Downloading nlp-getting-started.zip to /content\n",
            "  0% 0.00/593k [00:00<?, ?B/s]\n",
            "100% 593k/593k [00:00<00:00, 82.8MB/s]\n"
          ]
        }
      ]
    },
    {
      "cell_type": "code",
      "source": [
        "! unzip nlp-getting-started.zip"
      ],
      "metadata": {
        "colab": {
          "base_uri": "https://localhost:8080/"
        },
        "id": "L9DHOaj1hIDW",
        "outputId": "e756c42e-ca54-4793-cb32-e9de5513d35a"
      },
      "execution_count": 2,
      "outputs": [
        {
          "output_type": "stream",
          "name": "stdout",
          "text": [
            "Archive:  nlp-getting-started.zip\n",
            "  inflating: sample_submission.csv   \n",
            "  inflating: test.csv                \n",
            "  inflating: train.csv               \n"
          ]
        }
      ]
    },
    {
      "cell_type": "markdown",
      "source": [
        "# Importing required libraries"
      ],
      "metadata": {
        "id": "39SsrDmWgLuJ"
      }
    },
    {
      "cell_type": "code",
      "execution_count": 1,
      "metadata": {
        "id": "l1czQbmbfaKv"
      },
      "outputs": [],
      "source": [
        "import pandas as pd\n",
        "import numpy as np\n",
        "import tensorflow as tf\n",
        "import matplotlib.pyplot as plt\n",
        "plt.style.use('seaborn')"
      ]
    },
    {
      "cell_type": "markdown",
      "source": [
        "# Importing data"
      ],
      "metadata": {
        "id": "N5r1AL5kgLG_"
      }
    },
    {
      "cell_type": "code",
      "source": [
        "df = pd.read_csv(\"train.csv\")\n",
        "df.head()"
      ],
      "metadata": {
        "colab": {
          "base_uri": "https://localhost:8080/",
          "height": 206
        },
        "id": "SV3H6QpbgZqw",
        "outputId": "0142011e-2798-4b91-cc28-501c3f47382a"
      },
      "execution_count": 2,
      "outputs": [
        {
          "output_type": "execute_result",
          "data": {
            "text/plain": [
              "   id keyword location                                               text  \\\n",
              "0   1     NaN      NaN  Our Deeds are the Reason of this #earthquake M...   \n",
              "1   4     NaN      NaN             Forest fire near La Ronge Sask. Canada   \n",
              "2   5     NaN      NaN  All residents asked to 'shelter in place' are ...   \n",
              "3   6     NaN      NaN  13,000 people receive #wildfires evacuation or...   \n",
              "4   7     NaN      NaN  Just got sent this photo from Ruby #Alaska as ...   \n",
              "\n",
              "   target  \n",
              "0       1  \n",
              "1       1  \n",
              "2       1  \n",
              "3       1  \n",
              "4       1  "
            ],
            "text/html": [
              "\n",
              "  <div id=\"df-5faf87ea-306b-4169-b074-95e76326f2cb\">\n",
              "    <div class=\"colab-df-container\">\n",
              "      <div>\n",
              "<style scoped>\n",
              "    .dataframe tbody tr th:only-of-type {\n",
              "        vertical-align: middle;\n",
              "    }\n",
              "\n",
              "    .dataframe tbody tr th {\n",
              "        vertical-align: top;\n",
              "    }\n",
              "\n",
              "    .dataframe thead th {\n",
              "        text-align: right;\n",
              "    }\n",
              "</style>\n",
              "<table border=\"1\" class=\"dataframe\">\n",
              "  <thead>\n",
              "    <tr style=\"text-align: right;\">\n",
              "      <th></th>\n",
              "      <th>id</th>\n",
              "      <th>keyword</th>\n",
              "      <th>location</th>\n",
              "      <th>text</th>\n",
              "      <th>target</th>\n",
              "    </tr>\n",
              "  </thead>\n",
              "  <tbody>\n",
              "    <tr>\n",
              "      <th>0</th>\n",
              "      <td>1</td>\n",
              "      <td>NaN</td>\n",
              "      <td>NaN</td>\n",
              "      <td>Our Deeds are the Reason of this #earthquake M...</td>\n",
              "      <td>1</td>\n",
              "    </tr>\n",
              "    <tr>\n",
              "      <th>1</th>\n",
              "      <td>4</td>\n",
              "      <td>NaN</td>\n",
              "      <td>NaN</td>\n",
              "      <td>Forest fire near La Ronge Sask. Canada</td>\n",
              "      <td>1</td>\n",
              "    </tr>\n",
              "    <tr>\n",
              "      <th>2</th>\n",
              "      <td>5</td>\n",
              "      <td>NaN</td>\n",
              "      <td>NaN</td>\n",
              "      <td>All residents asked to 'shelter in place' are ...</td>\n",
              "      <td>1</td>\n",
              "    </tr>\n",
              "    <tr>\n",
              "      <th>3</th>\n",
              "      <td>6</td>\n",
              "      <td>NaN</td>\n",
              "      <td>NaN</td>\n",
              "      <td>13,000 people receive #wildfires evacuation or...</td>\n",
              "      <td>1</td>\n",
              "    </tr>\n",
              "    <tr>\n",
              "      <th>4</th>\n",
              "      <td>7</td>\n",
              "      <td>NaN</td>\n",
              "      <td>NaN</td>\n",
              "      <td>Just got sent this photo from Ruby #Alaska as ...</td>\n",
              "      <td>1</td>\n",
              "    </tr>\n",
              "  </tbody>\n",
              "</table>\n",
              "</div>\n",
              "      <button class=\"colab-df-convert\" onclick=\"convertToInteractive('df-5faf87ea-306b-4169-b074-95e76326f2cb')\"\n",
              "              title=\"Convert this dataframe to an interactive table.\"\n",
              "              style=\"display:none;\">\n",
              "        \n",
              "  <svg xmlns=\"http://www.w3.org/2000/svg\" height=\"24px\"viewBox=\"0 0 24 24\"\n",
              "       width=\"24px\">\n",
              "    <path d=\"M0 0h24v24H0V0z\" fill=\"none\"/>\n",
              "    <path d=\"M18.56 5.44l.94 2.06.94-2.06 2.06-.94-2.06-.94-.94-2.06-.94 2.06-2.06.94zm-11 1L8.5 8.5l.94-2.06 2.06-.94-2.06-.94L8.5 2.5l-.94 2.06-2.06.94zm10 10l.94 2.06.94-2.06 2.06-.94-2.06-.94-.94-2.06-.94 2.06-2.06.94z\"/><path d=\"M17.41 7.96l-1.37-1.37c-.4-.4-.92-.59-1.43-.59-.52 0-1.04.2-1.43.59L10.3 9.45l-7.72 7.72c-.78.78-.78 2.05 0 2.83L4 21.41c.39.39.9.59 1.41.59.51 0 1.02-.2 1.41-.59l7.78-7.78 2.81-2.81c.8-.78.8-2.07 0-2.86zM5.41 20L4 18.59l7.72-7.72 1.47 1.35L5.41 20z\"/>\n",
              "  </svg>\n",
              "      </button>\n",
              "      \n",
              "  <style>\n",
              "    .colab-df-container {\n",
              "      display:flex;\n",
              "      flex-wrap:wrap;\n",
              "      gap: 12px;\n",
              "    }\n",
              "\n",
              "    .colab-df-convert {\n",
              "      background-color: #E8F0FE;\n",
              "      border: none;\n",
              "      border-radius: 50%;\n",
              "      cursor: pointer;\n",
              "      display: none;\n",
              "      fill: #1967D2;\n",
              "      height: 32px;\n",
              "      padding: 0 0 0 0;\n",
              "      width: 32px;\n",
              "    }\n",
              "\n",
              "    .colab-df-convert:hover {\n",
              "      background-color: #E2EBFA;\n",
              "      box-shadow: 0px 1px 2px rgba(60, 64, 67, 0.3), 0px 1px 3px 1px rgba(60, 64, 67, 0.15);\n",
              "      fill: #174EA6;\n",
              "    }\n",
              "\n",
              "    [theme=dark] .colab-df-convert {\n",
              "      background-color: #3B4455;\n",
              "      fill: #D2E3FC;\n",
              "    }\n",
              "\n",
              "    [theme=dark] .colab-df-convert:hover {\n",
              "      background-color: #434B5C;\n",
              "      box-shadow: 0px 1px 3px 1px rgba(0, 0, 0, 0.15);\n",
              "      filter: drop-shadow(0px 1px 2px rgba(0, 0, 0, 0.3));\n",
              "      fill: #FFFFFF;\n",
              "    }\n",
              "  </style>\n",
              "\n",
              "      <script>\n",
              "        const buttonEl =\n",
              "          document.querySelector('#df-5faf87ea-306b-4169-b074-95e76326f2cb button.colab-df-convert');\n",
              "        buttonEl.style.display =\n",
              "          google.colab.kernel.accessAllowed ? 'block' : 'none';\n",
              "\n",
              "        async function convertToInteractive(key) {\n",
              "          const element = document.querySelector('#df-5faf87ea-306b-4169-b074-95e76326f2cb');\n",
              "          const dataTable =\n",
              "            await google.colab.kernel.invokeFunction('convertToInteractive',\n",
              "                                                     [key], {});\n",
              "          if (!dataTable) return;\n",
              "\n",
              "          const docLinkHtml = 'Like what you see? Visit the ' +\n",
              "            '<a target=\"_blank\" href=https://colab.research.google.com/notebooks/data_table.ipynb>data table notebook</a>'\n",
              "            + ' to learn more about interactive tables.';\n",
              "          element.innerHTML = '';\n",
              "          dataTable['output_type'] = 'display_data';\n",
              "          await google.colab.output.renderOutput(dataTable, element);\n",
              "          const docLink = document.createElement('div');\n",
              "          docLink.innerHTML = docLinkHtml;\n",
              "          element.appendChild(docLink);\n",
              "        }\n",
              "      </script>\n",
              "    </div>\n",
              "  </div>\n",
              "  "
            ]
          },
          "metadata": {},
          "execution_count": 2
        }
      ]
    },
    {
      "cell_type": "code",
      "source": [
        "df.loc[df.text.isna(),:]"
      ],
      "metadata": {
        "colab": {
          "base_uri": "https://localhost:8080/",
          "height": 49
        },
        "id": "zlaI_NW4icZ0",
        "outputId": "e5735fdf-35b9-4715-8e36-0e9abb1fa1c3"
      },
      "execution_count": 3,
      "outputs": [
        {
          "output_type": "execute_result",
          "data": {
            "text/plain": [
              "Empty DataFrame\n",
              "Columns: [id, keyword, location, text, target]\n",
              "Index: []"
            ],
            "text/html": [
              "\n",
              "  <div id=\"df-2500ded7-9663-4912-9a08-52ceef83e348\">\n",
              "    <div class=\"colab-df-container\">\n",
              "      <div>\n",
              "<style scoped>\n",
              "    .dataframe tbody tr th:only-of-type {\n",
              "        vertical-align: middle;\n",
              "    }\n",
              "\n",
              "    .dataframe tbody tr th {\n",
              "        vertical-align: top;\n",
              "    }\n",
              "\n",
              "    .dataframe thead th {\n",
              "        text-align: right;\n",
              "    }\n",
              "</style>\n",
              "<table border=\"1\" class=\"dataframe\">\n",
              "  <thead>\n",
              "    <tr style=\"text-align: right;\">\n",
              "      <th></th>\n",
              "      <th>id</th>\n",
              "      <th>keyword</th>\n",
              "      <th>location</th>\n",
              "      <th>text</th>\n",
              "      <th>target</th>\n",
              "    </tr>\n",
              "  </thead>\n",
              "  <tbody>\n",
              "  </tbody>\n",
              "</table>\n",
              "</div>\n",
              "      <button class=\"colab-df-convert\" onclick=\"convertToInteractive('df-2500ded7-9663-4912-9a08-52ceef83e348')\"\n",
              "              title=\"Convert this dataframe to an interactive table.\"\n",
              "              style=\"display:none;\">\n",
              "        \n",
              "  <svg xmlns=\"http://www.w3.org/2000/svg\" height=\"24px\"viewBox=\"0 0 24 24\"\n",
              "       width=\"24px\">\n",
              "    <path d=\"M0 0h24v24H0V0z\" fill=\"none\"/>\n",
              "    <path d=\"M18.56 5.44l.94 2.06.94-2.06 2.06-.94-2.06-.94-.94-2.06-.94 2.06-2.06.94zm-11 1L8.5 8.5l.94-2.06 2.06-.94-2.06-.94L8.5 2.5l-.94 2.06-2.06.94zm10 10l.94 2.06.94-2.06 2.06-.94-2.06-.94-.94-2.06-.94 2.06-2.06.94z\"/><path d=\"M17.41 7.96l-1.37-1.37c-.4-.4-.92-.59-1.43-.59-.52 0-1.04.2-1.43.59L10.3 9.45l-7.72 7.72c-.78.78-.78 2.05 0 2.83L4 21.41c.39.39.9.59 1.41.59.51 0 1.02-.2 1.41-.59l7.78-7.78 2.81-2.81c.8-.78.8-2.07 0-2.86zM5.41 20L4 18.59l7.72-7.72 1.47 1.35L5.41 20z\"/>\n",
              "  </svg>\n",
              "      </button>\n",
              "      \n",
              "  <style>\n",
              "    .colab-df-container {\n",
              "      display:flex;\n",
              "      flex-wrap:wrap;\n",
              "      gap: 12px;\n",
              "    }\n",
              "\n",
              "    .colab-df-convert {\n",
              "      background-color: #E8F0FE;\n",
              "      border: none;\n",
              "      border-radius: 50%;\n",
              "      cursor: pointer;\n",
              "      display: none;\n",
              "      fill: #1967D2;\n",
              "      height: 32px;\n",
              "      padding: 0 0 0 0;\n",
              "      width: 32px;\n",
              "    }\n",
              "\n",
              "    .colab-df-convert:hover {\n",
              "      background-color: #E2EBFA;\n",
              "      box-shadow: 0px 1px 2px rgba(60, 64, 67, 0.3), 0px 1px 3px 1px rgba(60, 64, 67, 0.15);\n",
              "      fill: #174EA6;\n",
              "    }\n",
              "\n",
              "    [theme=dark] .colab-df-convert {\n",
              "      background-color: #3B4455;\n",
              "      fill: #D2E3FC;\n",
              "    }\n",
              "\n",
              "    [theme=dark] .colab-df-convert:hover {\n",
              "      background-color: #434B5C;\n",
              "      box-shadow: 0px 1px 3px 1px rgba(0, 0, 0, 0.15);\n",
              "      filter: drop-shadow(0px 1px 2px rgba(0, 0, 0, 0.3));\n",
              "      fill: #FFFFFF;\n",
              "    }\n",
              "  </style>\n",
              "\n",
              "      <script>\n",
              "        const buttonEl =\n",
              "          document.querySelector('#df-2500ded7-9663-4912-9a08-52ceef83e348 button.colab-df-convert');\n",
              "        buttonEl.style.display =\n",
              "          google.colab.kernel.accessAllowed ? 'block' : 'none';\n",
              "\n",
              "        async function convertToInteractive(key) {\n",
              "          const element = document.querySelector('#df-2500ded7-9663-4912-9a08-52ceef83e348');\n",
              "          const dataTable =\n",
              "            await google.colab.kernel.invokeFunction('convertToInteractive',\n",
              "                                                     [key], {});\n",
              "          if (!dataTable) return;\n",
              "\n",
              "          const docLinkHtml = 'Like what you see? Visit the ' +\n",
              "            '<a target=\"_blank\" href=https://colab.research.google.com/notebooks/data_table.ipynb>data table notebook</a>'\n",
              "            + ' to learn more about interactive tables.';\n",
              "          element.innerHTML = '';\n",
              "          dataTable['output_type'] = 'display_data';\n",
              "          await google.colab.output.renderOutput(dataTable, element);\n",
              "          const docLink = document.createElement('div');\n",
              "          docLink.innerHTML = docLinkHtml;\n",
              "          element.appendChild(docLink);\n",
              "        }\n",
              "      </script>\n",
              "    </div>\n",
              "  </div>\n",
              "  "
            ]
          },
          "metadata": {},
          "execution_count": 3
        }
      ]
    },
    {
      "cell_type": "markdown",
      "source": [
        "First we create a simple model just by using the text and target column"
      ],
      "metadata": {
        "id": "0gsNWOg3j5TC"
      }
    },
    {
      "cell_type": "code",
      "source": [
        "data = df.iloc[:,[0,3,4]]"
      ],
      "metadata": {
        "id": "ca_UowZOjFW9"
      },
      "execution_count": 4,
      "outputs": []
    },
    {
      "cell_type": "code",
      "source": [
        "data.id = data.index.values + 1\n",
        "data"
      ],
      "metadata": {
        "colab": {
          "base_uri": "https://localhost:8080/",
          "height": 548
        },
        "id": "n3Uo1yF3kUCM",
        "outputId": "37233bfa-8545-4e69-f0d9-02c56c901b39"
      },
      "execution_count": 5,
      "outputs": [
        {
          "output_type": "stream",
          "name": "stderr",
          "text": [
            "/usr/local/lib/python3.7/dist-packages/pandas/core/generic.py:5516: SettingWithCopyWarning: \n",
            "A value is trying to be set on a copy of a slice from a DataFrame.\n",
            "Try using .loc[row_indexer,col_indexer] = value instead\n",
            "\n",
            "See the caveats in the documentation: https://pandas.pydata.org/pandas-docs/stable/user_guide/indexing.html#returning-a-view-versus-a-copy\n",
            "  self[name] = value\n"
          ]
        },
        {
          "output_type": "execute_result",
          "data": {
            "text/plain": [
              "        id                                               text  target\n",
              "0        1  Our Deeds are the Reason of this #earthquake M...       1\n",
              "1        2             Forest fire near La Ronge Sask. Canada       1\n",
              "2        3  All residents asked to 'shelter in place' are ...       1\n",
              "3        4  13,000 people receive #wildfires evacuation or...       1\n",
              "4        5  Just got sent this photo from Ruby #Alaska as ...       1\n",
              "...    ...                                                ...     ...\n",
              "7608  7609  Two giant cranes holding a bridge collapse int...       1\n",
              "7609  7610  @aria_ahrary @TheTawniest The out of control w...       1\n",
              "7610  7611  M1.94 [01:04 UTC]?5km S of Volcano Hawaii. htt...       1\n",
              "7611  7612  Police investigating after an e-bike collided ...       1\n",
              "7612  7613  The Latest: More Homes Razed by Northern Calif...       1\n",
              "\n",
              "[7613 rows x 3 columns]"
            ],
            "text/html": [
              "\n",
              "  <div id=\"df-dbec896e-5d72-4caa-ab81-25dac88285da\">\n",
              "    <div class=\"colab-df-container\">\n",
              "      <div>\n",
              "<style scoped>\n",
              "    .dataframe tbody tr th:only-of-type {\n",
              "        vertical-align: middle;\n",
              "    }\n",
              "\n",
              "    .dataframe tbody tr th {\n",
              "        vertical-align: top;\n",
              "    }\n",
              "\n",
              "    .dataframe thead th {\n",
              "        text-align: right;\n",
              "    }\n",
              "</style>\n",
              "<table border=\"1\" class=\"dataframe\">\n",
              "  <thead>\n",
              "    <tr style=\"text-align: right;\">\n",
              "      <th></th>\n",
              "      <th>id</th>\n",
              "      <th>text</th>\n",
              "      <th>target</th>\n",
              "    </tr>\n",
              "  </thead>\n",
              "  <tbody>\n",
              "    <tr>\n",
              "      <th>0</th>\n",
              "      <td>1</td>\n",
              "      <td>Our Deeds are the Reason of this #earthquake M...</td>\n",
              "      <td>1</td>\n",
              "    </tr>\n",
              "    <tr>\n",
              "      <th>1</th>\n",
              "      <td>2</td>\n",
              "      <td>Forest fire near La Ronge Sask. Canada</td>\n",
              "      <td>1</td>\n",
              "    </tr>\n",
              "    <tr>\n",
              "      <th>2</th>\n",
              "      <td>3</td>\n",
              "      <td>All residents asked to 'shelter in place' are ...</td>\n",
              "      <td>1</td>\n",
              "    </tr>\n",
              "    <tr>\n",
              "      <th>3</th>\n",
              "      <td>4</td>\n",
              "      <td>13,000 people receive #wildfires evacuation or...</td>\n",
              "      <td>1</td>\n",
              "    </tr>\n",
              "    <tr>\n",
              "      <th>4</th>\n",
              "      <td>5</td>\n",
              "      <td>Just got sent this photo from Ruby #Alaska as ...</td>\n",
              "      <td>1</td>\n",
              "    </tr>\n",
              "    <tr>\n",
              "      <th>...</th>\n",
              "      <td>...</td>\n",
              "      <td>...</td>\n",
              "      <td>...</td>\n",
              "    </tr>\n",
              "    <tr>\n",
              "      <th>7608</th>\n",
              "      <td>7609</td>\n",
              "      <td>Two giant cranes holding a bridge collapse int...</td>\n",
              "      <td>1</td>\n",
              "    </tr>\n",
              "    <tr>\n",
              "      <th>7609</th>\n",
              "      <td>7610</td>\n",
              "      <td>@aria_ahrary @TheTawniest The out of control w...</td>\n",
              "      <td>1</td>\n",
              "    </tr>\n",
              "    <tr>\n",
              "      <th>7610</th>\n",
              "      <td>7611</td>\n",
              "      <td>M1.94 [01:04 UTC]?5km S of Volcano Hawaii. htt...</td>\n",
              "      <td>1</td>\n",
              "    </tr>\n",
              "    <tr>\n",
              "      <th>7611</th>\n",
              "      <td>7612</td>\n",
              "      <td>Police investigating after an e-bike collided ...</td>\n",
              "      <td>1</td>\n",
              "    </tr>\n",
              "    <tr>\n",
              "      <th>7612</th>\n",
              "      <td>7613</td>\n",
              "      <td>The Latest: More Homes Razed by Northern Calif...</td>\n",
              "      <td>1</td>\n",
              "    </tr>\n",
              "  </tbody>\n",
              "</table>\n",
              "<p>7613 rows × 3 columns</p>\n",
              "</div>\n",
              "      <button class=\"colab-df-convert\" onclick=\"convertToInteractive('df-dbec896e-5d72-4caa-ab81-25dac88285da')\"\n",
              "              title=\"Convert this dataframe to an interactive table.\"\n",
              "              style=\"display:none;\">\n",
              "        \n",
              "  <svg xmlns=\"http://www.w3.org/2000/svg\" height=\"24px\"viewBox=\"0 0 24 24\"\n",
              "       width=\"24px\">\n",
              "    <path d=\"M0 0h24v24H0V0z\" fill=\"none\"/>\n",
              "    <path d=\"M18.56 5.44l.94 2.06.94-2.06 2.06-.94-2.06-.94-.94-2.06-.94 2.06-2.06.94zm-11 1L8.5 8.5l.94-2.06 2.06-.94-2.06-.94L8.5 2.5l-.94 2.06-2.06.94zm10 10l.94 2.06.94-2.06 2.06-.94-2.06-.94-.94-2.06-.94 2.06-2.06.94z\"/><path d=\"M17.41 7.96l-1.37-1.37c-.4-.4-.92-.59-1.43-.59-.52 0-1.04.2-1.43.59L10.3 9.45l-7.72 7.72c-.78.78-.78 2.05 0 2.83L4 21.41c.39.39.9.59 1.41.59.51 0 1.02-.2 1.41-.59l7.78-7.78 2.81-2.81c.8-.78.8-2.07 0-2.86zM5.41 20L4 18.59l7.72-7.72 1.47 1.35L5.41 20z\"/>\n",
              "  </svg>\n",
              "      </button>\n",
              "      \n",
              "  <style>\n",
              "    .colab-df-container {\n",
              "      display:flex;\n",
              "      flex-wrap:wrap;\n",
              "      gap: 12px;\n",
              "    }\n",
              "\n",
              "    .colab-df-convert {\n",
              "      background-color: #E8F0FE;\n",
              "      border: none;\n",
              "      border-radius: 50%;\n",
              "      cursor: pointer;\n",
              "      display: none;\n",
              "      fill: #1967D2;\n",
              "      height: 32px;\n",
              "      padding: 0 0 0 0;\n",
              "      width: 32px;\n",
              "    }\n",
              "\n",
              "    .colab-df-convert:hover {\n",
              "      background-color: #E2EBFA;\n",
              "      box-shadow: 0px 1px 2px rgba(60, 64, 67, 0.3), 0px 1px 3px 1px rgba(60, 64, 67, 0.15);\n",
              "      fill: #174EA6;\n",
              "    }\n",
              "\n",
              "    [theme=dark] .colab-df-convert {\n",
              "      background-color: #3B4455;\n",
              "      fill: #D2E3FC;\n",
              "    }\n",
              "\n",
              "    [theme=dark] .colab-df-convert:hover {\n",
              "      background-color: #434B5C;\n",
              "      box-shadow: 0px 1px 3px 1px rgba(0, 0, 0, 0.15);\n",
              "      filter: drop-shadow(0px 1px 2px rgba(0, 0, 0, 0.3));\n",
              "      fill: #FFFFFF;\n",
              "    }\n",
              "  </style>\n",
              "\n",
              "      <script>\n",
              "        const buttonEl =\n",
              "          document.querySelector('#df-dbec896e-5d72-4caa-ab81-25dac88285da button.colab-df-convert');\n",
              "        buttonEl.style.display =\n",
              "          google.colab.kernel.accessAllowed ? 'block' : 'none';\n",
              "\n",
              "        async function convertToInteractive(key) {\n",
              "          const element = document.querySelector('#df-dbec896e-5d72-4caa-ab81-25dac88285da');\n",
              "          const dataTable =\n",
              "            await google.colab.kernel.invokeFunction('convertToInteractive',\n",
              "                                                     [key], {});\n",
              "          if (!dataTable) return;\n",
              "\n",
              "          const docLinkHtml = 'Like what you see? Visit the ' +\n",
              "            '<a target=\"_blank\" href=https://colab.research.google.com/notebooks/data_table.ipynb>data table notebook</a>'\n",
              "            + ' to learn more about interactive tables.';\n",
              "          element.innerHTML = '';\n",
              "          dataTable['output_type'] = 'display_data';\n",
              "          await google.colab.output.renderOutput(dataTable, element);\n",
              "          const docLink = document.createElement('div');\n",
              "          docLink.innerHTML = docLinkHtml;\n",
              "          element.appendChild(docLink);\n",
              "        }\n",
              "      </script>\n",
              "    </div>\n",
              "  </div>\n",
              "  "
            ]
          },
          "metadata": {},
          "execution_count": 5
        }
      ]
    },
    {
      "cell_type": "markdown",
      "source": [
        "# Model"
      ],
      "metadata": {
        "id": "LO6l5OgKmEd3"
      }
    },
    {
      "cell_type": "markdown",
      "source": [
        "## Train/Test Split"
      ],
      "metadata": {
        "id": "56HL1fUtmGpS"
      }
    },
    {
      "cell_type": "code",
      "source": [
        "from sklearn.model_selection import train_test_split\n",
        "X = np.array(data.iloc[:,1])\n",
        "y = np.array(data.iloc[:,-1])\n",
        "X_train, X_test, y_train, y_test = train_test_split(X, y, test_size=0.2, random_state=222)\n",
        "X_train, X_val, y_train, y_val = train_test_split(X_train, y_train, test_size=0.25, random_state=666)"
      ],
      "metadata": {
        "id": "GlzxPjWrkjj1"
      },
      "execution_count": 6,
      "outputs": []
    },
    {
      "cell_type": "markdown",
      "source": [
        "##First layer"
      ],
      "metadata": {
        "id": "10L3eJe0oKB9"
      }
    },
    {
      "cell_type": "markdown",
      "source": [
        "We use a pre-trained text embedding model as the first layer"
      ],
      "metadata": {
        "id": "uf2-L36OoNIr"
      }
    },
    {
      "cell_type": "code",
      "source": [
        "import tensorflow_hub as hub\n",
        "model = \"https://tfhub.dev/google/nnlm-en-dim128-with-normalization/2\"\n",
        "hub_layer = hub.KerasLayer(model, input_shape=[], dtype=tf.string, trainable=True)\n",
        "hub_layer(X_train[:3])"
      ],
      "metadata": {
        "colab": {
          "base_uri": "https://localhost:8080/"
        },
        "id": "XUXCA_9cnnQ1",
        "outputId": "81d45a2c-e3b0-4a73-a328-a76be2df9215"
      },
      "execution_count": 7,
      "outputs": [
        {
          "output_type": "execute_result",
          "data": {
            "text/plain": [
              "<tf.Tensor: shape=(3, 128), dtype=float32, numpy=\n",
              "array([[ 4.65274483e-01,  6.03381395e-02, -2.25947276e-02,\n",
              "         1.27515376e-01,  1.41367197e-01, -6.01468608e-02,\n",
              "         5.61336055e-02, -8.17772746e-02, -1.25141844e-01,\n",
              "         2.24831462e-01,  9.35670957e-02, -4.20897692e-01,\n",
              "        -4.09677513e-02, -1.45227745e-01,  7.20147043e-02,\n",
              "         1.95798203e-02, -4.88073304e-02,  2.30129459e-04,\n",
              "        -6.65237084e-02,  7.47236833e-02, -1.82472244e-01,\n",
              "         9.60581750e-02,  5.96922873e-05, -8.05068463e-02,\n",
              "        -2.24518385e-02, -2.17670530e-01,  6.77260682e-02,\n",
              "        -1.09929599e-01, -1.43464863e-01,  8.11961442e-02,\n",
              "         8.42682868e-02,  1.66210532e-01,  7.72339106e-02,\n",
              "         5.83183914e-02,  9.52747986e-02, -1.34607181e-01,\n",
              "        -1.38968810e-01, -1.78631172e-01,  9.18664634e-02,\n",
              "         2.02663898e-01, -9.43761542e-02,  1.13399848e-02,\n",
              "        -4.26216424e-03, -3.19792554e-02,  5.60061038e-02,\n",
              "         9.58899558e-02,  7.41870850e-02, -1.89713873e-02,\n",
              "         3.82976383e-02,  2.18065232e-02,  8.01728922e-04,\n",
              "         5.16509861e-02, -7.42166042e-02,  5.69770336e-02,\n",
              "         1.62839741e-02,  8.77742022e-02,  9.81821194e-02,\n",
              "        -9.65783074e-02, -1.11309871e-01, -1.21547140e-01,\n",
              "        -1.15461066e-01,  4.57652621e-02, -1.26847729e-01,\n",
              "        -7.17556104e-02,  5.81973381e-02,  5.53089492e-02,\n",
              "        -1.48006722e-01, -1.14755355e-01,  1.79525882e-01,\n",
              "        -9.01779011e-02,  1.94253726e-03,  1.51568905e-01,\n",
              "         1.59277301e-02, -2.38073226e-02, -1.66257620e-01,\n",
              "        -2.03997809e-02, -3.69744748e-02, -1.17827035e-01,\n",
              "         6.18152283e-02,  1.54286072e-01,  1.24987597e-02,\n",
              "         7.29719177e-03, -1.85272276e-01,  1.20144319e-02,\n",
              "        -1.58726498e-01, -3.64126153e-02, -1.87849179e-01,\n",
              "         4.14986163e-02,  3.42516422e-01,  1.28517509e-01,\n",
              "        -1.65756643e-01,  6.46481663e-02,  1.09910294e-01,\n",
              "        -9.57350731e-02,  1.96456432e-01,  8.80426392e-02,\n",
              "         1.32734746e-01,  3.39774229e-02,  6.79503754e-02,\n",
              "         3.44709754e-02,  4.76540727e-08, -1.02308378e-01,\n",
              "         5.72448038e-02,  8.18487108e-02, -1.49368227e-01,\n",
              "        -5.68406917e-02, -2.75093112e-02,  5.66318408e-02,\n",
              "        -8.49988610e-02,  1.71205610e-01, -2.21558169e-01,\n",
              "        -1.21816978e-01, -1.39943704e-01, -1.14702702e-01,\n",
              "        -1.21714093e-01, -1.98793367e-01, -1.90614447e-01,\n",
              "        -1.51617136e-02, -8.37933365e-03, -3.64568271e-02,\n",
              "         1.34211257e-01, -1.34914175e-01,  1.82656914e-01,\n",
              "        -5.02068587e-02, -5.19569255e-02, -7.77587667e-02,\n",
              "         1.37282863e-01, -7.88637102e-02],\n",
              "       [ 3.31720442e-01,  4.52074260e-02,  2.17037238e-02,\n",
              "         1.20036170e-01, -5.51927499e-02,  9.17162299e-02,\n",
              "         7.48558566e-02, -3.35027501e-02, -1.47906438e-01,\n",
              "         2.24747568e-01,  5.69163598e-02,  1.28457189e-01,\n",
              "        -1.15466490e-02,  2.25167871e-02, -8.68622959e-02,\n",
              "        -7.67616555e-02, -1.99972600e-01, -6.42137602e-02,\n",
              "         1.09916758e-02,  2.86110252e-01,  3.40231359e-02,\n",
              "        -1.55453375e-02,  1.06079038e-02,  1.19374000e-01,\n",
              "        -4.38132845e-02, -1.30639359e-01, -3.23592126e-02,\n",
              "         1.09649882e-01,  1.89655146e-03, -5.04716337e-02,\n",
              "        -7.50003681e-02, -1.54013544e-01,  4.78082821e-02,\n",
              "         2.34344192e-02, -1.15213807e-04, -1.31343603e-01,\n",
              "         2.08140969e-01, -2.93330606e-02,  1.13267794e-01,\n",
              "        -1.11899950e-01, -1.12046361e-01, -2.98743583e-02,\n",
              "        -6.37790710e-02,  1.12036631e-01,  6.86420351e-02,\n",
              "         7.74363428e-02,  6.54128147e-03,  9.85993817e-03,\n",
              "         3.01214643e-02, -9.19051021e-02,  3.44086960e-02,\n",
              "        -2.81987432e-02,  2.10169807e-01, -1.13773100e-01,\n",
              "        -3.86143737e-02, -8.78280774e-02,  1.12260714e-01,\n",
              "        -3.05639040e-02,  1.22177247e-02,  9.25292969e-02,\n",
              "        -8.18827227e-02,  9.21900421e-02,  1.07687987e-01,\n",
              "        -1.29497930e-01,  5.38109206e-02,  4.11591567e-02,\n",
              "        -5.42941950e-02, -6.42140433e-02,  1.74695790e-01,\n",
              "        -7.83420131e-02, -6.50008917e-02,  1.35336757e-01,\n",
              "         8.07536067e-04, -1.96732339e-02, -8.15669596e-02,\n",
              "         7.02419952e-02, -2.25641504e-01, -4.52880096e-03,\n",
              "        -2.51997113e-02, -2.29164883e-02, -1.76865086e-01,\n",
              "        -4.97283414e-02, -1.33188859e-01, -1.00644603e-01,\n",
              "        -6.78181974e-03,  4.61551659e-02, -2.39447076e-02,\n",
              "         1.45937935e-01,  1.67838290e-01,  1.70669809e-01,\n",
              "         2.29715943e-01, -1.22080036e-02,  1.57304049e-01,\n",
              "        -7.58601800e-02,  7.34917149e-02, -1.34083033e-01,\n",
              "         2.82254387e-02,  5.51802153e-03,  1.17779367e-01,\n",
              "         8.99699032e-02,  1.16778836e-01, -8.62267613e-02,\n",
              "        -5.39398119e-02,  8.72511268e-02,  3.43354605e-02,\n",
              "         1.54242426e-01, -3.40392068e-02,  1.68575466e-01,\n",
              "        -1.67846411e-01, -7.83920661e-02, -7.68879354e-02,\n",
              "         1.13948755e-01,  1.68087613e-02, -3.14590149e-02,\n",
              "        -1.99672773e-01, -1.27899691e-01,  4.14198525e-02,\n",
              "         4.19762544e-02,  1.02426238e-01,  5.05617447e-02,\n",
              "         1.01149149e-01, -1.21044070e-01,  1.93113610e-02,\n",
              "         4.93068248e-02,  2.19172854e-02, -7.15260431e-02,\n",
              "         1.37838395e-02, -7.95520097e-03],\n",
              "       [ 1.82162941e-01,  9.15422849e-03,  6.07996248e-02,\n",
              "        -1.85236707e-01,  2.42456198e-01,  8.74660388e-02,\n",
              "        -2.76117414e-01,  7.90822040e-03, -3.20537724e-02,\n",
              "         2.58672208e-01,  6.54370859e-02,  1.79326788e-01,\n",
              "         1.89448476e-01, -2.81597406e-01, -9.43341628e-02,\n",
              "         2.81644136e-01,  5.36429174e-02, -1.25259953e-02,\n",
              "         1.73719842e-02, -1.40409008e-01,  9.57069360e-03,\n",
              "        -9.16479155e-02,  2.06213281e-01,  1.32400215e-01,\n",
              "         4.61899824e-02, -3.07906240e-01,  1.71923086e-01,\n",
              "        -3.52559090e-02, -4.33801532e-01, -9.41409692e-02,\n",
              "         7.60432854e-02,  1.15510918e-01, -7.80330747e-02,\n",
              "         1.51651889e-01,  2.21103713e-01,  1.49918944e-01,\n",
              "        -1.20908655e-02,  2.65936591e-02,  1.79790556e-01,\n",
              "         3.19617875e-02, -9.58806202e-02, -2.11456930e-03,\n",
              "        -1.57927394e-01, -4.02409166e-01, -5.96774444e-02,\n",
              "        -8.83873850e-02, -3.27502936e-02,  2.80074954e-01,\n",
              "        -1.18217744e-01,  2.20718846e-01,  1.25176534e-01,\n",
              "         1.01201929e-01, -2.08013251e-01,  2.38629848e-01,\n",
              "        -3.13661188e-01,  9.46478546e-02, -2.91171819e-01,\n",
              "        -2.85864979e-01,  1.90586521e-04, -4.81046230e-01,\n",
              "        -4.11189795e-01, -1.24519579e-01,  2.70365357e-01,\n",
              "         5.62900454e-02,  2.61236751e-03,  2.80165393e-02,\n",
              "        -1.68065965e-01,  3.48359048e-02,  1.21274143e-01,\n",
              "        -1.24721311e-01,  1.61225006e-01, -6.03275327e-03,\n",
              "         2.12360039e-01, -7.97265619e-02,  3.65769595e-01,\n",
              "        -1.10138595e-01, -9.68890637e-02,  8.62195268e-02,\n",
              "         2.52115190e-01,  2.34135371e-02, -1.44632161e-01,\n",
              "         1.72606725e-02, -2.58851144e-02,  7.08860084e-02,\n",
              "         4.26359400e-02, -1.06268257e-01, -3.07202727e-01,\n",
              "         7.10799322e-02, -1.41049102e-01,  1.39088169e-01,\n",
              "         3.78681049e-02, -1.26574606e-01, -2.32916743e-01,\n",
              "        -1.40215337e-01,  7.15554953e-02,  2.26403475e-01,\n",
              "        -9.75158066e-02,  1.35303468e-01, -8.32904428e-02,\n",
              "        -3.03029478e-01, -1.72682792e-01, -2.62394994e-01,\n",
              "         1.34584740e-01,  1.30478576e-01,  1.41242221e-01,\n",
              "         2.07220122e-01, -3.57410568e-03, -8.65167528e-02,\n",
              "        -1.34490937e-01, -1.79984868e-01,  1.33426338e-02,\n",
              "         2.77693331e-01, -1.69919074e-01, -3.29884477e-02,\n",
              "        -3.12762260e-01,  7.29574263e-02, -2.98107445e-01,\n",
              "        -3.25172991e-01,  3.90982181e-02,  4.14061509e-02,\n",
              "         3.30266207e-01, -4.64079455e-02, -5.11200354e-02,\n",
              "        -3.22470337e-01, -1.33972660e-01, -1.37275476e-02,\n",
              "         3.19168955e-01, -4.10338908e-01]], dtype=float32)>"
            ]
          },
          "metadata": {},
          "execution_count": 7
        }
      ]
    },
    {
      "cell_type": "code",
      "source": [
        "model = tf.keras.Sequential()\n",
        "model.add(hub_layer)\n",
        "model.add(tf.keras.layers.Dense(16, activation='relu'))\n",
        "model.add(tf.keras.layers.Dropout(0.2))\n",
        "model.add(tf.keras.layers.Dense(1,activation='sigmoid'))\n",
        "\n",
        "model.summary()"
      ],
      "metadata": {
        "colab": {
          "base_uri": "https://localhost:8080/"
        },
        "id": "cQn7s8tRo4RH",
        "outputId": "c22da339-c9a2-40b1-991e-4b791df706e1"
      },
      "execution_count": 8,
      "outputs": [
        {
          "output_type": "stream",
          "name": "stdout",
          "text": [
            "Model: \"sequential\"\n",
            "_________________________________________________________________\n",
            " Layer (type)                Output Shape              Param #   \n",
            "=================================================================\n",
            " keras_layer (KerasLayer)    (None, 128)               124642688 \n",
            "                                                                 \n",
            " dense (Dense)               (None, 16)                2064      \n",
            "                                                                 \n",
            " dropout (Dropout)           (None, 16)                0         \n",
            "                                                                 \n",
            " dense_1 (Dense)             (None, 1)                 17        \n",
            "                                                                 \n",
            "=================================================================\n",
            "Total params: 124,644,769\n",
            "Trainable params: 124,644,769\n",
            "Non-trainable params: 0\n",
            "_________________________________________________________________\n"
          ]
        }
      ]
    },
    {
      "cell_type": "code",
      "source": [
        "model.compile(optimizer='adam',\n",
        "              loss='binary_crossentropy',\n",
        "              metrics=['acc'])"
      ],
      "metadata": {
        "id": "I8DuFpm-pBJv"
      },
      "execution_count": 9,
      "outputs": []
    },
    {
      "cell_type": "code",
      "source": [
        "history = model.fit(X_train,\n",
        "                    y_train,\n",
        "                    epochs=40,\n",
        "                    batch_size=512,\n",
        "                    validation_data=(X_val, y_val),\n",
        "                    verbose=1)"
      ],
      "metadata": {
        "colab": {
          "base_uri": "https://localhost:8080/"
        },
        "id": "nhqQ3pAGpLjF",
        "outputId": "0de807ac-3404-4d84-e9b8-17891d764f16"
      },
      "execution_count": 10,
      "outputs": [
        {
          "output_type": "stream",
          "name": "stdout",
          "text": [
            "Epoch 1/40\n",
            "9/9 [==============================] - 2s 105ms/step - loss: 0.6730 - acc: 0.6024 - val_loss: 0.6440 - val_acc: 0.7111\n",
            "Epoch 2/40\n",
            "9/9 [==============================] - 1s 80ms/step - loss: 0.6073 - acc: 0.7677 - val_loss: 0.5986 - val_acc: 0.7505\n",
            "Epoch 3/40\n",
            "9/9 [==============================] - 1s 82ms/step - loss: 0.5459 - acc: 0.8045 - val_loss: 0.5539 - val_acc: 0.7728\n",
            "Epoch 4/40\n",
            "9/9 [==============================] - 1s 81ms/step - loss: 0.4799 - acc: 0.8408 - val_loss: 0.5144 - val_acc: 0.7899\n",
            "Epoch 5/40\n",
            "9/9 [==============================] - 1s 84ms/step - loss: 0.4115 - acc: 0.8647 - val_loss: 0.4850 - val_acc: 0.7984\n",
            "Epoch 6/40\n",
            "9/9 [==============================] - 1s 80ms/step - loss: 0.3484 - acc: 0.8899 - val_loss: 0.4651 - val_acc: 0.7978\n",
            "Epoch 7/40\n",
            "9/9 [==============================] - 1s 81ms/step - loss: 0.2931 - acc: 0.9109 - val_loss: 0.4556 - val_acc: 0.8024\n",
            "Epoch 8/40\n",
            "9/9 [==============================] - 1s 81ms/step - loss: 0.2388 - acc: 0.9323 - val_loss: 0.4534 - val_acc: 0.7965\n",
            "Epoch 9/40\n",
            "9/9 [==============================] - 1s 81ms/step - loss: 0.1929 - acc: 0.9512 - val_loss: 0.4575 - val_acc: 0.7978\n",
            "Epoch 10/40\n",
            "9/9 [==============================] - 1s 80ms/step - loss: 0.1560 - acc: 0.9639 - val_loss: 0.4668 - val_acc: 0.7912\n",
            "Epoch 11/40\n",
            "9/9 [==============================] - 1s 85ms/step - loss: 0.1275 - acc: 0.9700 - val_loss: 0.4800 - val_acc: 0.7899\n",
            "Epoch 12/40\n",
            "9/9 [==============================] - 1s 80ms/step - loss: 0.1030 - acc: 0.9785 - val_loss: 0.4945 - val_acc: 0.7859\n",
            "Epoch 13/40\n",
            "9/9 [==============================] - 1s 81ms/step - loss: 0.0861 - acc: 0.9820 - val_loss: 0.5127 - val_acc: 0.7820\n",
            "Epoch 14/40\n",
            "9/9 [==============================] - 1s 80ms/step - loss: 0.0718 - acc: 0.9845 - val_loss: 0.5310 - val_acc: 0.7833\n",
            "Epoch 15/40\n",
            "9/9 [==============================] - 1s 81ms/step - loss: 0.0602 - acc: 0.9901 - val_loss: 0.5473 - val_acc: 0.7827\n",
            "Epoch 16/40\n",
            "9/9 [==============================] - 1s 80ms/step - loss: 0.0492 - acc: 0.9930 - val_loss: 0.5634 - val_acc: 0.7820\n",
            "Epoch 17/40\n",
            "9/9 [==============================] - 1s 80ms/step - loss: 0.0447 - acc: 0.9917 - val_loss: 0.5803 - val_acc: 0.7774\n",
            "Epoch 18/40\n",
            "9/9 [==============================] - 1s 81ms/step - loss: 0.0372 - acc: 0.9947 - val_loss: 0.6000 - val_acc: 0.7754\n",
            "Epoch 19/40\n",
            "9/9 [==============================] - 1s 80ms/step - loss: 0.0333 - acc: 0.9937 - val_loss: 0.6139 - val_acc: 0.7761\n",
            "Epoch 20/40\n",
            "9/9 [==============================] - 1s 81ms/step - loss: 0.0301 - acc: 0.9954 - val_loss: 0.6293 - val_acc: 0.7728\n",
            "Epoch 21/40\n",
            "9/9 [==============================] - 1s 80ms/step - loss: 0.0277 - acc: 0.9952 - val_loss: 0.6468 - val_acc: 0.7728\n",
            "Epoch 22/40\n",
            "9/9 [==============================] - 1s 80ms/step - loss: 0.0255 - acc: 0.9956 - val_loss: 0.6607 - val_acc: 0.7682\n",
            "Epoch 23/40\n",
            "9/9 [==============================] - 1s 80ms/step - loss: 0.0236 - acc: 0.9963 - val_loss: 0.6744 - val_acc: 0.7695\n",
            "Epoch 24/40\n",
            "9/9 [==============================] - 1s 80ms/step - loss: 0.0212 - acc: 0.9956 - val_loss: 0.6868 - val_acc: 0.7676\n",
            "Epoch 25/40\n",
            "9/9 [==============================] - 1s 80ms/step - loss: 0.0199 - acc: 0.9965 - val_loss: 0.6981 - val_acc: 0.7663\n",
            "Epoch 26/40\n",
            "9/9 [==============================] - 1s 80ms/step - loss: 0.0180 - acc: 0.9972 - val_loss: 0.7135 - val_acc: 0.7663\n",
            "Epoch 27/40\n",
            "9/9 [==============================] - 1s 79ms/step - loss: 0.0169 - acc: 0.9961 - val_loss: 0.7275 - val_acc: 0.7643\n",
            "Epoch 28/40\n",
            "9/9 [==============================] - 1s 80ms/step - loss: 0.0161 - acc: 0.9963 - val_loss: 0.7394 - val_acc: 0.7643\n",
            "Epoch 29/40\n",
            "9/9 [==============================] - 1s 80ms/step - loss: 0.0151 - acc: 0.9967 - val_loss: 0.7495 - val_acc: 0.7636\n",
            "Epoch 30/40\n",
            "9/9 [==============================] - 1s 81ms/step - loss: 0.0144 - acc: 0.9976 - val_loss: 0.7602 - val_acc: 0.7630\n",
            "Epoch 31/40\n",
            "9/9 [==============================] - 1s 86ms/step - loss: 0.0136 - acc: 0.9967 - val_loss: 0.7752 - val_acc: 0.7603\n",
            "Epoch 32/40\n",
            "9/9 [==============================] - 1s 81ms/step - loss: 0.0139 - acc: 0.9963 - val_loss: 0.7855 - val_acc: 0.7617\n",
            "Epoch 33/40\n",
            "9/9 [==============================] - 1s 80ms/step - loss: 0.0133 - acc: 0.9967 - val_loss: 0.7948 - val_acc: 0.7590\n",
            "Epoch 34/40\n",
            "9/9 [==============================] - 1s 82ms/step - loss: 0.0121 - acc: 0.9963 - val_loss: 0.8044 - val_acc: 0.7584\n",
            "Epoch 35/40\n",
            "9/9 [==============================] - 1s 81ms/step - loss: 0.0122 - acc: 0.9974 - val_loss: 0.8108 - val_acc: 0.7577\n",
            "Epoch 36/40\n",
            "9/9 [==============================] - 1s 81ms/step - loss: 0.0111 - acc: 0.9974 - val_loss: 0.8193 - val_acc: 0.7571\n",
            "Epoch 37/40\n",
            "9/9 [==============================] - 1s 81ms/step - loss: 0.0118 - acc: 0.9967 - val_loss: 0.8278 - val_acc: 0.7564\n",
            "Epoch 38/40\n",
            "9/9 [==============================] - 1s 81ms/step - loss: 0.0111 - acc: 0.9978 - val_loss: 0.8397 - val_acc: 0.7557\n",
            "Epoch 39/40\n",
            "9/9 [==============================] - 1s 80ms/step - loss: 0.0100 - acc: 0.9974 - val_loss: 0.8486 - val_acc: 0.7584\n",
            "Epoch 40/40\n",
            "9/9 [==============================] - 1s 93ms/step - loss: 0.0105 - acc: 0.9967 - val_loss: 0.8568 - val_acc: 0.7623\n"
          ]
        }
      ]
    },
    {
      "cell_type": "code",
      "source": [
        "results = model.evaluate(X_test, y_test)\n",
        "\n",
        "print(results)"
      ],
      "metadata": {
        "colab": {
          "base_uri": "https://localhost:8080/"
        },
        "id": "DbTN_UT-rAtY",
        "outputId": "a099e1f2-0b69-4b45-a3a8-463447df942c"
      },
      "execution_count": 11,
      "outputs": [
        {
          "output_type": "stream",
          "name": "stdout",
          "text": [
            "48/48 [==============================] - 0s 7ms/step - loss: 0.9673 - acc: 0.7525\n",
            "[0.9673160314559937, 0.7524622678756714]\n"
          ]
        }
      ]
    },
    {
      "cell_type": "code",
      "source": [
        "model = tf.keras.Sequential()\n",
        "model.add(hub_layer)\n",
        "model.add(tf.keras.layers.Dense(16, activation='relu'))\n",
        "model.add(tf.keras.layers.Dropout(0.2))\n",
        "model.add(tf.keras.layers.Dense(1,activation='sigmoid'))\n",
        "\n",
        "model.summary()"
      ],
      "metadata": {
        "colab": {
          "base_uri": "https://localhost:8080/"
        },
        "outputId": "dcc2f715-6845-4aa5-f831-a161db32b7cc",
        "id": "8eNDd0hWti3F"
      },
      "execution_count": 12,
      "outputs": [
        {
          "output_type": "stream",
          "name": "stdout",
          "text": [
            "Model: \"sequential_1\"\n",
            "_________________________________________________________________\n",
            " Layer (type)                Output Shape              Param #   \n",
            "=================================================================\n",
            " keras_layer (KerasLayer)    (None, 128)               124642688 \n",
            "                                                                 \n",
            " dense_2 (Dense)             (None, 16)                2064      \n",
            "                                                                 \n",
            " dropout_1 (Dropout)         (None, 16)                0         \n",
            "                                                                 \n",
            " dense_3 (Dense)             (None, 1)                 17        \n",
            "                                                                 \n",
            "=================================================================\n",
            "Total params: 124,644,769\n",
            "Trainable params: 124,644,769\n",
            "Non-trainable params: 0\n",
            "_________________________________________________________________\n"
          ]
        }
      ]
    },
    {
      "cell_type": "code",
      "source": [
        "model.compile(optimizer='adam',\n",
        "              loss='binary_crossentropy',\n",
        "              metrics=['acc'])"
      ],
      "metadata": {
        "id": "IFtmo4xJti3K"
      },
      "execution_count": 13,
      "outputs": []
    },
    {
      "cell_type": "code",
      "source": [
        "history = model.fit(X,\n",
        "                    y,\n",
        "                    epochs=10,\n",
        "                    batch_size=512,\n",
        "                    verbose=1)"
      ],
      "metadata": {
        "colab": {
          "base_uri": "https://localhost:8080/"
        },
        "outputId": "090ff8a3-fd73-4218-8f0f-ae71d44676e5",
        "id": "ewhmaKxnti3P"
      },
      "execution_count": 14,
      "outputs": [
        {
          "output_type": "stream",
          "name": "stdout",
          "text": [
            "Epoch 1/10\n",
            "15/15 [==============================] - 2s 80ms/step - loss: 0.5996 - acc: 0.8007\n",
            "Epoch 2/10\n",
            "15/15 [==============================] - 1s 75ms/step - loss: 0.4504 - acc: 0.8962\n",
            "Epoch 3/10\n",
            "15/15 [==============================] - 1s 75ms/step - loss: 0.3449 - acc: 0.9060\n",
            "Epoch 4/10\n",
            "15/15 [==============================] - 1s 75ms/step - loss: 0.2734 - acc: 0.9229\n",
            "Epoch 5/10\n",
            "15/15 [==============================] - 1s 76ms/step - loss: 0.2245 - acc: 0.9348\n",
            "Epoch 6/10\n",
            "15/15 [==============================] - 1s 76ms/step - loss: 0.1847 - acc: 0.9431\n",
            "Epoch 7/10\n",
            "15/15 [==============================] - 1s 75ms/step - loss: 0.1565 - acc: 0.9568\n",
            "Epoch 8/10\n",
            "15/15 [==============================] - 1s 75ms/step - loss: 0.1328 - acc: 0.9630\n",
            "Epoch 9/10\n",
            "15/15 [==============================] - 1s 76ms/step - loss: 0.1126 - acc: 0.9714\n",
            "Epoch 10/10\n",
            "15/15 [==============================] - 1s 76ms/step - loss: 0.0952 - acc: 0.9749\n"
          ]
        }
      ]
    },
    {
      "cell_type": "markdown",
      "source": [
        "# Setting the test set"
      ],
      "metadata": {
        "id": "m4X6uozouDno"
      }
    },
    {
      "cell_type": "code",
      "source": [
        "test = pd.read_csv('test.csv')\n",
        "X_pred = np.array(test.iloc[:,-1])"
      ],
      "metadata": {
        "id": "B4gK_SVotzD7"
      },
      "execution_count": 15,
      "outputs": []
    },
    {
      "cell_type": "code",
      "source": [
        "y_pred = model.predict(X_pred)"
      ],
      "metadata": {
        "id": "NXTIgh3luHyr"
      },
      "execution_count": 18,
      "outputs": []
    },
    {
      "cell_type": "code",
      "source": [
        "y_pred[y_pred>=0.5] = 1\n",
        "y_pred[y_pred<0.5] = 0"
      ],
      "metadata": {
        "id": "AebjlfjcwdXe"
      },
      "execution_count": 20,
      "outputs": []
    },
    {
      "cell_type": "code",
      "source": [
        "output = pd.DataFrame()\n",
        "output['id'] = test['id']\n",
        "output['target'] = y_pred\n",
        "output['target'] = output['target'].astype(int)\n",
        "output"
      ],
      "metadata": {
        "colab": {
          "base_uri": "https://localhost:8080/",
          "height": 424
        },
        "id": "aZll9a3IxA4I",
        "outputId": "5f85d8b6-b5b9-41d2-99d9-6c33235d4fb6"
      },
      "execution_count": 25,
      "outputs": [
        {
          "output_type": "execute_result",
          "data": {
            "text/plain": [
              "         id  target\n",
              "0         0       1\n",
              "1         2       1\n",
              "2         3       1\n",
              "3         9       1\n",
              "4        11       1\n",
              "...     ...     ...\n",
              "3258  10861       0\n",
              "3259  10865       1\n",
              "3260  10868       1\n",
              "3261  10874       1\n",
              "3262  10875       1\n",
              "\n",
              "[3263 rows x 2 columns]"
            ],
            "text/html": [
              "\n",
              "  <div id=\"df-d147d02c-8277-45bf-9692-dfc2a8a7e3c7\">\n",
              "    <div class=\"colab-df-container\">\n",
              "      <div>\n",
              "<style scoped>\n",
              "    .dataframe tbody tr th:only-of-type {\n",
              "        vertical-align: middle;\n",
              "    }\n",
              "\n",
              "    .dataframe tbody tr th {\n",
              "        vertical-align: top;\n",
              "    }\n",
              "\n",
              "    .dataframe thead th {\n",
              "        text-align: right;\n",
              "    }\n",
              "</style>\n",
              "<table border=\"1\" class=\"dataframe\">\n",
              "  <thead>\n",
              "    <tr style=\"text-align: right;\">\n",
              "      <th></th>\n",
              "      <th>id</th>\n",
              "      <th>target</th>\n",
              "    </tr>\n",
              "  </thead>\n",
              "  <tbody>\n",
              "    <tr>\n",
              "      <th>0</th>\n",
              "      <td>0</td>\n",
              "      <td>1</td>\n",
              "    </tr>\n",
              "    <tr>\n",
              "      <th>1</th>\n",
              "      <td>2</td>\n",
              "      <td>1</td>\n",
              "    </tr>\n",
              "    <tr>\n",
              "      <th>2</th>\n",
              "      <td>3</td>\n",
              "      <td>1</td>\n",
              "    </tr>\n",
              "    <tr>\n",
              "      <th>3</th>\n",
              "      <td>9</td>\n",
              "      <td>1</td>\n",
              "    </tr>\n",
              "    <tr>\n",
              "      <th>4</th>\n",
              "      <td>11</td>\n",
              "      <td>1</td>\n",
              "    </tr>\n",
              "    <tr>\n",
              "      <th>...</th>\n",
              "      <td>...</td>\n",
              "      <td>...</td>\n",
              "    </tr>\n",
              "    <tr>\n",
              "      <th>3258</th>\n",
              "      <td>10861</td>\n",
              "      <td>0</td>\n",
              "    </tr>\n",
              "    <tr>\n",
              "      <th>3259</th>\n",
              "      <td>10865</td>\n",
              "      <td>1</td>\n",
              "    </tr>\n",
              "    <tr>\n",
              "      <th>3260</th>\n",
              "      <td>10868</td>\n",
              "      <td>1</td>\n",
              "    </tr>\n",
              "    <tr>\n",
              "      <th>3261</th>\n",
              "      <td>10874</td>\n",
              "      <td>1</td>\n",
              "    </tr>\n",
              "    <tr>\n",
              "      <th>3262</th>\n",
              "      <td>10875</td>\n",
              "      <td>1</td>\n",
              "    </tr>\n",
              "  </tbody>\n",
              "</table>\n",
              "<p>3263 rows × 2 columns</p>\n",
              "</div>\n",
              "      <button class=\"colab-df-convert\" onclick=\"convertToInteractive('df-d147d02c-8277-45bf-9692-dfc2a8a7e3c7')\"\n",
              "              title=\"Convert this dataframe to an interactive table.\"\n",
              "              style=\"display:none;\">\n",
              "        \n",
              "  <svg xmlns=\"http://www.w3.org/2000/svg\" height=\"24px\"viewBox=\"0 0 24 24\"\n",
              "       width=\"24px\">\n",
              "    <path d=\"M0 0h24v24H0V0z\" fill=\"none\"/>\n",
              "    <path d=\"M18.56 5.44l.94 2.06.94-2.06 2.06-.94-2.06-.94-.94-2.06-.94 2.06-2.06.94zm-11 1L8.5 8.5l.94-2.06 2.06-.94-2.06-.94L8.5 2.5l-.94 2.06-2.06.94zm10 10l.94 2.06.94-2.06 2.06-.94-2.06-.94-.94-2.06-.94 2.06-2.06.94z\"/><path d=\"M17.41 7.96l-1.37-1.37c-.4-.4-.92-.59-1.43-.59-.52 0-1.04.2-1.43.59L10.3 9.45l-7.72 7.72c-.78.78-.78 2.05 0 2.83L4 21.41c.39.39.9.59 1.41.59.51 0 1.02-.2 1.41-.59l7.78-7.78 2.81-2.81c.8-.78.8-2.07 0-2.86zM5.41 20L4 18.59l7.72-7.72 1.47 1.35L5.41 20z\"/>\n",
              "  </svg>\n",
              "      </button>\n",
              "      \n",
              "  <style>\n",
              "    .colab-df-container {\n",
              "      display:flex;\n",
              "      flex-wrap:wrap;\n",
              "      gap: 12px;\n",
              "    }\n",
              "\n",
              "    .colab-df-convert {\n",
              "      background-color: #E8F0FE;\n",
              "      border: none;\n",
              "      border-radius: 50%;\n",
              "      cursor: pointer;\n",
              "      display: none;\n",
              "      fill: #1967D2;\n",
              "      height: 32px;\n",
              "      padding: 0 0 0 0;\n",
              "      width: 32px;\n",
              "    }\n",
              "\n",
              "    .colab-df-convert:hover {\n",
              "      background-color: #E2EBFA;\n",
              "      box-shadow: 0px 1px 2px rgba(60, 64, 67, 0.3), 0px 1px 3px 1px rgba(60, 64, 67, 0.15);\n",
              "      fill: #174EA6;\n",
              "    }\n",
              "\n",
              "    [theme=dark] .colab-df-convert {\n",
              "      background-color: #3B4455;\n",
              "      fill: #D2E3FC;\n",
              "    }\n",
              "\n",
              "    [theme=dark] .colab-df-convert:hover {\n",
              "      background-color: #434B5C;\n",
              "      box-shadow: 0px 1px 3px 1px rgba(0, 0, 0, 0.15);\n",
              "      filter: drop-shadow(0px 1px 2px rgba(0, 0, 0, 0.3));\n",
              "      fill: #FFFFFF;\n",
              "    }\n",
              "  </style>\n",
              "\n",
              "      <script>\n",
              "        const buttonEl =\n",
              "          document.querySelector('#df-d147d02c-8277-45bf-9692-dfc2a8a7e3c7 button.colab-df-convert');\n",
              "        buttonEl.style.display =\n",
              "          google.colab.kernel.accessAllowed ? 'block' : 'none';\n",
              "\n",
              "        async function convertToInteractive(key) {\n",
              "          const element = document.querySelector('#df-d147d02c-8277-45bf-9692-dfc2a8a7e3c7');\n",
              "          const dataTable =\n",
              "            await google.colab.kernel.invokeFunction('convertToInteractive',\n",
              "                                                     [key], {});\n",
              "          if (!dataTable) return;\n",
              "\n",
              "          const docLinkHtml = 'Like what you see? Visit the ' +\n",
              "            '<a target=\"_blank\" href=https://colab.research.google.com/notebooks/data_table.ipynb>data table notebook</a>'\n",
              "            + ' to learn more about interactive tables.';\n",
              "          element.innerHTML = '';\n",
              "          dataTable['output_type'] = 'display_data';\n",
              "          await google.colab.output.renderOutput(dataTable, element);\n",
              "          const docLink = document.createElement('div');\n",
              "          docLink.innerHTML = docLinkHtml;\n",
              "          element.appendChild(docLink);\n",
              "        }\n",
              "      </script>\n",
              "    </div>\n",
              "  </div>\n",
              "  "
            ]
          },
          "metadata": {},
          "execution_count": 25
        }
      ]
    },
    {
      "cell_type": "code",
      "source": [
        "output.to_csv('output.csv',index=False)"
      ],
      "metadata": {
        "id": "rnBaJTIexnGx"
      },
      "execution_count": 26,
      "outputs": []
    },
    {
      "cell_type": "code",
      "source": [
        "! kaggle competitions submit -c nlp-getting-started -f output.csv -m \"first try\""
      ],
      "metadata": {
        "colab": {
          "base_uri": "https://localhost:8080/"
        },
        "id": "hEbDK2Apxxv-",
        "outputId": "730c672f-a5a5-4ad5-c6a2-c8c095b86699"
      },
      "execution_count": 27,
      "outputs": [
        {
          "output_type": "stream",
          "name": "stdout",
          "text": [
            "100% 22.2k/22.2k [00:01<00:00, 16.1kB/s]\n",
            "Successfully submitted to Natural Language Processing with Disaster Tweets"
          ]
        }
      ]
    }
  ]
}